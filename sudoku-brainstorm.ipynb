{
 "cells": [
  {
   "cell_type": "markdown",
   "metadata": {},
   "source": [
    "# NumPy Sudoku Solver"
   ]
  },
  {
   "cell_type": "code",
   "execution_count": 1,
   "metadata": {
    "collapsed": true
   },
   "outputs": [],
   "source": [
    "import numpy as np"
   ]
  },
  {
   "cell_type": "markdown",
   "metadata": {},
   "source": [
    "### Create a 3x3 matrix"
   ]
  },
  {
   "cell_type": "code",
   "execution_count": 2,
   "metadata": {},
   "outputs": [
    {
     "data": {
      "text/plain": [
       "array([[0, 0, 0, 0],\n",
       "       [0, 0, 0, 0],\n",
       "       [0, 0, 0, 0],\n",
       "       [0, 0, 0, 0]], dtype=int64)"
      ]
     },
     "execution_count": 2,
     "metadata": {},
     "output_type": "execute_result"
    }
   ],
   "source": [
    "grid = np.zeros((4,4), dtype=np.int64)\n",
    "grid"
   ]
  },
  {
   "cell_type": "code",
   "execution_count": 3,
   "metadata": {},
   "outputs": [
    {
     "data": {
      "text/plain": [
       "(4, 4)"
      ]
     },
     "execution_count": 3,
     "metadata": {},
     "output_type": "execute_result"
    }
   ],
   "source": [
    "grid.shape"
   ]
  },
  {
   "cell_type": "markdown",
   "metadata": {},
   "source": [
    "### Create a Function to fill an Array of given length with unique Random Numbers by row"
   ]
  },
  {
   "cell_type": "markdown",
   "metadata": {},
   "source": [
    "#### Using np.random.choice(a, size=None, replace=True) \n",
    "- a: 1D Array or range <br>\n",
    "- size: how many numbers to generate <br>\n",
    "- replace: False to generate only unique numbers"
   ]
  },
  {
   "cell_type": "code",
   "execution_count": 4,
   "metadata": {
    "collapsed": true
   },
   "outputs": [],
   "source": [
    "def set_random(arr):\n",
    "    \n",
    "    arr_length = arr.shape[0]\n",
    "    for x in range(arr_length): #for each row\n",
    "        arr[x,:] = np.random.choice(range(1,(arr_length + 1)), arr_length, replace=False)\n",
    "    \n",
    "    return arr \n"
   ]
  },
  {
   "cell_type": "markdown",
   "metadata": {},
   "source": [
    "### Seed with Random numbers"
   ]
  },
  {
   "cell_type": "code",
   "execution_count": 5,
   "metadata": {},
   "outputs": [
    {
     "data": {
      "text/plain": [
       "array([[4, 2, 1, 3],\n",
       "       [3, 2, 1, 4],\n",
       "       [4, 3, 1, 2],\n",
       "       [3, 4, 1, 2]], dtype=int64)"
      ]
     },
     "execution_count": 5,
     "metadata": {},
     "output_type": "execute_result"
    }
   ],
   "source": [
    "#%%timeit\n",
    "set_random(grid)"
   ]
  },
  {
   "cell_type": "markdown",
   "metadata": {},
   "source": [
    "## Create a function to check if any numbers repeat in a given column"
   ]
  },
  {
   "cell_type": "markdown",
   "metadata": {},
   "source": [
    "#### Python way with loops - Returns True if all unique, returns False if numbers are repeated"
   ]
  },
  {
   "cell_type": "code",
   "execution_count": 6,
   "metadata": {
    "collapsed": true
   },
   "outputs": [],
   "source": [
    "def check_arr1(arr):\n",
    "    arr_length = arr.shape[0]\n",
    "    \n",
    "    check = True\n",
    "\n",
    "    for x in range(arr_length - 1):\n",
    "        for y in range(arr_length):\n",
    "            #if first element in in the rest of the column\n",
    "            if ( arr[x,y] in arr[(x+1):, y] ): #arr[0,0] in arr[1:,0]\n",
    "                check = False\n",
    "                return check #if check is False, return out of function \n",
    "            else: \n",
    "                check = True\n",
    "                \n",
    "    return check\n"
   ]
  },
  {
   "cell_type": "markdown",
   "metadata": {},
   "source": [
    "#### NumPy way with loops - Returns True if all unique.  Returns False if numbers are repeated\n",
    "Check to see if number of unique elements in a column is equal to the size of the column. <br>\n",
    "- np.unique(arr) return another array of just unique values\n",
    "- np.unique([1, 1, 2, 2, 3, 3]) returns [1, 2, 3]"
   ]
  },
  {
   "cell_type": "code",
   "execution_count": 7,
   "metadata": {
    "collapsed": true
   },
   "outputs": [],
   "source": [
    "def check_arr2(arr):\n",
    "    for i in range(arr.shape[1]):\n",
    "        #unique numbers in all rows of column i\n",
    "        if np.unique(arr[:, i]).size < arr.shape[0]:\n",
    "            return False\n",
    "    return True"
   ]
  },
  {
   "cell_type": "markdown",
   "metadata": {},
   "source": [
    "#### NumPy way with no loops\n",
    "Sort array by column (axis=0). Check whether there are two or more equal values next to each other (non-unique values in a sorted array) by comparing their difference to 0"
   ]
  },
  {
   "cell_type": "code",
   "execution_count": 8,
   "metadata": {
    "collapsed": true
   },
   "outputs": [],
   "source": [
    "def check_arr3(arr):\n",
    "    if ( np.any(np.diff(np.sort(arr, axis=0), axis=0) == 0) ):\n",
    "        return False\n",
    "    return True"
   ]
  },
  {
   "cell_type": "markdown",
   "metadata": {},
   "source": [
    "## Generating the Grids "
   ]
  },
  {
   "cell_type": "code",
   "execution_count": 9,
   "metadata": {},
   "outputs": [
    {
     "data": {
      "text/plain": [
       "array([[4, 2, 1, 3],\n",
       "       [3, 1, 4, 2],\n",
       "       [1, 3, 2, 4],\n",
       "       [4, 3, 1, 2]], dtype=int64)"
      ]
     },
     "execution_count": 9,
     "metadata": {},
     "output_type": "execute_result"
    }
   ],
   "source": [
    "grid = np.zeros((4,4), dtype=np.int64)\n",
    "set_random(grid)\n"
   ]
  },
  {
   "cell_type": "markdown",
   "metadata": {},
   "source": [
    "#### Using Python way with loops - Using while loop untill check is True (all unique)"
   ]
  },
  {
   "cell_type": "code",
   "execution_count": 10,
   "metadata": {},
   "outputs": [
    {
     "data": {
      "text/plain": [
       "array([[3, 4, 1, 2],\n",
       "       [4, 3, 2, 1],\n",
       "       [1, 2, 4, 3],\n",
       "       [2, 1, 3, 4]], dtype=int64)"
      ]
     },
     "execution_count": 10,
     "metadata": {},
     "output_type": "execute_result"
    }
   ],
   "source": [
    "#%%timeit\n",
    "grid = np.zeros((4,4), dtype=np.int64)\n",
    "set_random(grid)\n",
    "check = check_arr1(grid)\n",
    "while check == False:\n",
    "    set_random(grid)\n",
    "    check = check_arr1(grid)\n",
    "grid"
   ]
  },
  {
   "cell_type": "markdown",
   "metadata": {},
   "source": [
    "#### Using Numpy way with loops - Using while loop untill check is True (all unique)"
   ]
  },
  {
   "cell_type": "code",
   "execution_count": 11,
   "metadata": {},
   "outputs": [
    {
     "data": {
      "text/plain": [
       "array([[4, 3, 1, 2],\n",
       "       [2, 1, 3, 4],\n",
       "       [1, 2, 4, 3],\n",
       "       [3, 4, 2, 1]], dtype=int64)"
      ]
     },
     "execution_count": 11,
     "metadata": {},
     "output_type": "execute_result"
    }
   ],
   "source": [
    "#%%timeit\n",
    "grid = np.zeros((4,4), dtype=np.int64)\n",
    "set_random(grid)\n",
    "check = check_arr2(grid)\n",
    "while check == False:\n",
    "    set_random(grid)\n",
    "    check = check_arr2(grid)\n",
    "grid"
   ]
  },
  {
   "cell_type": "markdown",
   "metadata": {
    "collapsed": true
   },
   "source": [
    "#### Using Numpy way with no loops"
   ]
  },
  {
   "cell_type": "code",
   "execution_count": 12,
   "metadata": {},
   "outputs": [
    {
     "data": {
      "text/plain": [
       "array([[3, 4, 1, 2],\n",
       "       [4, 3, 2, 1],\n",
       "       [1, 2, 3, 4],\n",
       "       [2, 1, 4, 3]], dtype=int64)"
      ]
     },
     "execution_count": 12,
     "metadata": {},
     "output_type": "execute_result"
    }
   ],
   "source": [
    "#%%timeit\n",
    "grid = np.zeros((4,4), dtype=np.int64)\n",
    "set_random(grid)\n",
    "check = check_arr3(grid)\n",
    "while check == False:\n",
    "    set_random(grid)\n",
    "    check = check_arr3(grid)\n",
    "grid"
   ]
  },
  {
   "cell_type": "code",
   "execution_count": null,
   "metadata": {
    "collapsed": true
   },
   "outputs": [],
   "source": []
  }
 ],
 "metadata": {
  "anaconda-cloud": {},
  "kernelspec": {
   "display_name": "Python 3",
   "language": "python",
   "name": "python3"
  },
  "language_info": {
   "codemirror_mode": {
    "name": "ipython",
    "version": 3
   },
   "file_extension": ".py",
   "mimetype": "text/x-python",
   "name": "python",
   "nbconvert_exporter": "python",
   "pygments_lexer": "ipython3",
   "version": "3.6.2"
  }
 },
 "nbformat": 4,
 "nbformat_minor": 1
}
