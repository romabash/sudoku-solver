{
 "cells": [
  {
   "cell_type": "markdown",
   "metadata": {},
   "source": [
    "# Sudoku Solver - Using the Crosshatching Method"
   ]
  },
  {
   "cell_type": "code",
   "execution_count": 1,
   "metadata": {
    "collapsed": true
   },
   "outputs": [],
   "source": [
    "import numpy as np"
   ]
  },
  {
   "cell_type": "code",
   "execution_count": 2,
   "metadata": {
    "collapsed": false
   },
   "outputs": [
    {
     "data": {
      "text/plain": [
       "array([[0, 0, 0, 0, 0, 0, 0, 0, 0],\n",
       "       [0, 0, 0, 0, 0, 0, 0, 0, 0],\n",
       "       [0, 0, 0, 0, 0, 0, 0, 0, 0],\n",
       "       [0, 0, 0, 0, 0, 0, 0, 0, 0],\n",
       "       [0, 0, 0, 0, 0, 0, 0, 0, 0],\n",
       "       [0, 0, 0, 0, 0, 0, 0, 0, 0],\n",
       "       [0, 0, 0, 0, 0, 0, 0, 0, 0],\n",
       "       [0, 0, 0, 0, 0, 0, 0, 0, 0],\n",
       "       [0, 0, 0, 0, 0, 0, 0, 0, 0]], dtype=int64)"
      ]
     },
     "execution_count": 2,
     "metadata": {},
     "output_type": "execute_result"
    }
   ],
   "source": [
    "grid = np.zeros((9,9), dtype=np.int64)\n",
    "grid"
   ]
  },
  {
   "cell_type": "markdown",
   "metadata": {},
   "source": [
    "## Create sample Sudoku puzzle"
   ]
  },
  {
   "cell_type": "code",
   "execution_count": 3,
   "metadata": {
    "collapsed": false
   },
   "outputs": [],
   "source": [
    "a = np.array([0,0,2,4,0,0,0,3,9]).reshape((3,3))\n",
    "b = np.array([9,8,0,0,7,0,6,0,4]).reshape((3,3))\n",
    "c = np.array([5,0,0,0,1,3,0,7,0]).reshape((3,3))\n",
    "d = np.array([2,0,0,8,4,0,9,0,7]).reshape((3,3))\n",
    "e = np.array([0,5,6,3,0,0,0,0,1]).reshape((3,3))\n",
    "f = np.array([4,0,0,2,0,1,0,8,6]).reshape((3,3))\n",
    "g = np.array([6,0,0,0,9,1,0,2,0]).reshape((3,3))\n",
    "h = np.array([7,0,5,4,0,0,0,3,0]).reshape((3,3))\n",
    "i = np.array([1,3,0,0,0,5,6,0,8]).reshape((3,3))"
   ]
  },
  {
   "cell_type": "markdown",
   "metadata": {},
   "source": [
    "#### Function to Concatenate the sub-grids into 1 large 9x9 grid\n",
    "np.concatenate((array1, array2), axis=1) <br> \n",
    "- Concatenates to the side (column wise) with axis=1\n",
    "- Concatenates down (row wise) with axis=0"
   ]
  },
  {
   "cell_type": "code",
   "execution_count": 4,
   "metadata": {
    "collapsed": false,
    "scrolled": false
   },
   "outputs": [],
   "source": [
    "def set_grid(a,b,c,d,e,f,g,h,i):\n",
    "    row1 = np.concatenate((a, b, c), axis=1)\n",
    "    row2 = np.concatenate((d, e, f), axis=1)\n",
    "    row3 = np.concatenate((g, h, i), axis=1)\n",
    "    grid = np.concatenate((row1, row2, row3), axis=0)\n",
    "    return grid"
   ]
  },
  {
   "cell_type": "markdown",
   "metadata": {},
   "source": [
    "Same as above in 1 line"
   ]
  },
  {
   "cell_type": "code",
   "execution_count": 5,
   "metadata": {
    "collapsed": false
   },
   "outputs": [],
   "source": [
    "def set_grid2(a,b,c,d,e,f,g,h,i):\n",
    "    grid = np.concatenate( (np.concatenate((a, b, c), axis=1), np.concatenate((d, e, f), axis=1), np.concatenate((g, h, i), axis=1)), axis=0 )\n",
    "    return grid"
   ]
  },
  {
   "cell_type": "code",
   "execution_count": 6,
   "metadata": {
    "collapsed": false
   },
   "outputs": [
    {
     "data": {
      "text/plain": [
       "array([[0, 0, 2, 9, 8, 0, 5, 0, 0],\n",
       "       [4, 0, 0, 0, 7, 0, 0, 1, 3],\n",
       "       [0, 3, 9, 6, 0, 4, 0, 7, 0],\n",
       "       [2, 0, 0, 0, 5, 6, 4, 0, 0],\n",
       "       [8, 4, 0, 3, 0, 0, 2, 0, 1],\n",
       "       [9, 0, 7, 0, 0, 1, 0, 8, 6],\n",
       "       [6, 0, 0, 7, 0, 5, 1, 3, 0],\n",
       "       [0, 9, 1, 4, 0, 0, 0, 0, 5],\n",
       "       [0, 2, 0, 0, 3, 0, 6, 0, 8]])"
      ]
     },
     "execution_count": 6,
     "metadata": {},
     "output_type": "execute_result"
    }
   ],
   "source": [
    "grid = set_grid(a,b,c,d,e,f,g,h,i)\n",
    "grid"
   ]
  },
  {
   "cell_type": "markdown",
   "metadata": {},
   "source": [
    "## Find all possible numbers for each sub-grid\n",
    "#### Using numpy.setdiff1d(array1, array2) - Return the sorted, unique values in array1 that are not in array2 (Order matters)"
   ]
  },
  {
   "cell_type": "code",
   "execution_count": 7,
   "metadata": {
    "collapsed": false
   },
   "outputs": [
    {
     "data": {
      "text/plain": [
       "array([1, 5, 6, 7, 8])"
      ]
     },
     "execution_count": 7,
     "metadata": {},
     "output_type": "execute_result"
    }
   ],
   "source": [
    "choice = np.setdiff1d(np.arange(10), a)\n",
    "choice"
   ]
  },
  {
   "cell_type": "markdown",
   "metadata": {},
   "source": [
    "#### Convert array of possible choices into a single number"
   ]
  },
  {
   "cell_type": "code",
   "execution_count": 8,
   "metadata": {
    "collapsed": false
   },
   "outputs": [
    {
     "data": {
      "text/plain": [
       "15678"
      ]
     },
     "execution_count": 8,
     "metadata": {},
     "output_type": "execute_result"
    }
   ],
   "source": [
    "choice = int(''.join(str(x) for x in choice))\n",
    "choice"
   ]
  },
  {
   "cell_type": "markdown",
   "metadata": {},
   "source": [
    "## Assign the possible choice to all empty spots in the appropriate sub-grid"
   ]
  },
  {
   "cell_type": "markdown",
   "metadata": {},
   "source": [
    "#### Use mask to assign zeros to the possible choice variable"
   ]
  },
  {
   "cell_type": "code",
   "execution_count": 9,
   "metadata": {
    "collapsed": false
   },
   "outputs": [
    {
     "data": {
      "text/plain": [
       "array([[15678, 15678,     2],\n",
       "       [    4, 15678, 15678],\n",
       "       [15678,     3,     9]])"
      ]
     },
     "execution_count": 9,
     "metadata": {},
     "output_type": "execute_result"
    }
   ],
   "source": [
    "a[a == 0] = choice\n",
    "a"
   ]
  },
  {
   "cell_type": "code",
   "execution_count": 10,
   "metadata": {
    "collapsed": false
   },
   "outputs": [
    {
     "data": {
      "text/plain": [
       "array([[15678, 15678,     2,     9,     8,     0,     5,     0,     0],\n",
       "       [    4, 15678, 15678,     0,     7,     0,     0,     1,     3],\n",
       "       [15678,     3,     9,     6,     0,     4,     0,     7,     0],\n",
       "       [    2,     0,     0,     0,     5,     6,     4,     0,     0],\n",
       "       [    8,     4,     0,     3,     0,     0,     2,     0,     1],\n",
       "       [    9,     0,     7,     0,     0,     1,     0,     8,     6],\n",
       "       [    6,     0,     0,     7,     0,     5,     1,     3,     0],\n",
       "       [    0,     9,     1,     4,     0,     0,     0,     0,     5],\n",
       "       [    0,     2,     0,     0,     3,     0,     6,     0,     8]])"
      ]
     },
     "execution_count": 10,
     "metadata": {},
     "output_type": "execute_result"
    }
   ],
   "source": [
    "grid = set_grid(a,b,c,d,e,f,g,h,i)\n",
    "grid"
   ]
  },
  {
   "cell_type": "markdown",
   "metadata": {},
   "source": [
    "## For each unassigned element in the sub-grid, eliminate the numbers in its row and column from the pool of possible numbers"
   ]
  },
  {
   "cell_type": "code",
   "execution_count": 13,
   "metadata": {
    "collapsed": false
   },
   "outputs": [
    {
     "name": "stdout",
     "output_type": "stream",
     "text": [
      "15678\n",
      "15678\n",
      "15678\n",
      "15678\n",
      "15678\n"
     ]
    }
   ],
   "source": [
    "grid_length = grid.shape[0]\n",
    "for x in range(grid_length):\n",
    "    for y in range(grid_length):\n",
    "        #if element is longer than 1 digit check its row and column\n",
    "        if (len(str(grid[x,y])) > 1 ): \n",
    "            print(grid[x,y])"
   ]
  },
  {
   "cell_type": "code",
   "execution_count": null,
   "metadata": {
    "collapsed": true
   },
   "outputs": [],
   "source": []
  }
 ],
 "metadata": {
  "anaconda-cloud": {},
  "kernelspec": {
   "display_name": "Python [Root]",
   "language": "python",
   "name": "Python [Root]"
  },
  "language_info": {
   "codemirror_mode": {
    "name": "ipython",
    "version": 3
   },
   "file_extension": ".py",
   "mimetype": "text/x-python",
   "name": "python",
   "nbconvert_exporter": "python",
   "pygments_lexer": "ipython3",
   "version": "3.5.2"
  }
 },
 "nbformat": 4,
 "nbformat_minor": 0
}
