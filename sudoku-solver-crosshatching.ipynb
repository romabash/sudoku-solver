{
 "cells": [
  {
   "cell_type": "markdown",
   "metadata": {},
   "source": [
    "# Sudoku Solver - Using the Crosshatching Method"
   ]
  },
  {
   "cell_type": "code",
   "execution_count": 1,
   "metadata": {
    "collapsed": true
   },
   "outputs": [],
   "source": [
    "import numpy as np"
   ]
  },
  {
   "cell_type": "code",
   "execution_count": 2,
   "metadata": {
    "collapsed": false
   },
   "outputs": [
    {
     "data": {
      "text/plain": [
       "array([[0, 0, 0, 0, 0, 0, 0, 0, 0],\n",
       "       [0, 0, 0, 0, 0, 0, 0, 0, 0],\n",
       "       [0, 0, 0, 0, 0, 0, 0, 0, 0],\n",
       "       [0, 0, 0, 0, 0, 0, 0, 0, 0],\n",
       "       [0, 0, 0, 0, 0, 0, 0, 0, 0],\n",
       "       [0, 0, 0, 0, 0, 0, 0, 0, 0],\n",
       "       [0, 0, 0, 0, 0, 0, 0, 0, 0],\n",
       "       [0, 0, 0, 0, 0, 0, 0, 0, 0],\n",
       "       [0, 0, 0, 0, 0, 0, 0, 0, 0]], dtype=int64)"
      ]
     },
     "execution_count": 2,
     "metadata": {},
     "output_type": "execute_result"
    }
   ],
   "source": [
    "grid = np.zeros((9,9), dtype=np.int64)\n",
    "grid"
   ]
  },
  {
   "cell_type": "markdown",
   "metadata": {},
   "source": [
    "## Create sample Sudoku puzzle"
   ]
  },
  {
   "cell_type": "markdown",
   "metadata": {},
   "source": [
    "#### Easy puzzle"
   ]
  },
  {
   "cell_type": "markdown",
   "metadata": {
    "collapsed": false
   },
   "source": [
    "a = np.array([0,0,2,4,0,0,0,3,9]).reshape((3,3))\n",
    "b = np.array([9,8,0,0,7,0,6,0,4]).reshape((3,3))\n",
    "c = np.array([5,0,0,0,1,3,0,7,0]).reshape((3,3))\n",
    "d = np.array([2,0,0,8,4,0,9,0,7]).reshape((3,3))\n",
    "e = np.array([0,5,6,3,0,0,0,0,1]).reshape((3,3))\n",
    "f = np.array([4,0,0,2,0,1,0,8,6]).reshape((3,3))\n",
    "g = np.array([6,0,0,0,9,1,0,2,0]).reshape((3,3))\n",
    "h = np.array([7,0,5,4,0,0,0,3,0]).reshape((3,3))\n",
    "i = np.array([1,3,0,0,0,5,6,0,8]).reshape((3,3))"
   ]
  },
  {
   "cell_type": "markdown",
   "metadata": {},
   "source": [
    "#### Easy puzzle"
   ]
  },
  {
   "cell_type": "markdown",
   "metadata": {
    "collapsed": true
   },
   "source": [
    "a = np.array([0,0,0,6,8,0,1,9,0]).reshape((3,3))\n",
    "b = np.array([2,6,0,0,7,0,0,0,4]).reshape((3,3))\n",
    "c = np.array([7,0,1,0,9,0,5,0,0]).reshape((3,3))\n",
    "d = np.array([8,2,0,0,0,4,0,5,0]).reshape((3,3))\n",
    "e = np.array([1,0,0,6,0,2,0,0,3]).reshape((3,3))\n",
    "f = np.array([0,4,0,9,0,0,0,2,8]).reshape((3,3))\n",
    "g = np.array([0,0,9,0,4,0,7,0,3]).reshape((3,3))\n",
    "h = np.array([3,0,0,0,5,0,0,1,8]).reshape((3,3))\n",
    "i = np.array([0,7,4,0,3,6,0,0,0]).reshape((3,3))"
   ]
  },
  {
   "cell_type": "markdown",
   "metadata": {},
   "source": [
    "#### Eazy puzzle"
   ]
  },
  {
   "cell_type": "code",
   "execution_count": 3,
   "metadata": {
    "collapsed": true
   },
   "outputs": [],
   "source": [
    "a = np.array([1,0,0,7,3,0,0,0,0]).reshape((3,3))\n",
    "b = np.array([4,8,9,0,0,0,0,0,1]).reshape((3,3))\n",
    "c = np.array([0,0,6,0,4,0,2,9,5]).reshape((3,3))\n",
    "d = np.array([0,0,7,5,0,0,0,0,6]).reshape((3,3))\n",
    "e = np.array([1,2,0,7,0,3,0,9,5]).reshape((3,3))\n",
    "f = np.array([6,0,0,0,0,8,7,0,0]).reshape((3,3))\n",
    "g = np.array([9,1,4,0,2,0,8,0,0]).reshape((3,3))\n",
    "h = np.array([6,0,0,0,0,0,5,1,2]).reshape((3,3))\n",
    "i = np.array([0,0,0,0,3,7,0,0,4]).reshape((3,3))"
   ]
  },
  {
   "cell_type": "markdown",
   "metadata": {},
   "source": [
    "#### Intermediate puzzle"
   ]
  },
  {
   "cell_type": "markdown",
   "metadata": {
    "collapsed": true
   },
   "source": [
    "a = np.array([0,2,0,5,8,0,0,0,0]).reshape((3,3))\n",
    "b = np.array([6,0,8,0,0,9,0,4,0]).reshape((3,3))\n",
    "c = np.array([0,0,0,7,0,0,0,0,0]).reshape((3,3))\n",
    "d = np.array([3,7,0,6,0,0,0,0,8]).reshape((3,3))\n",
    "e = np.array([0,0,0,0,0,0,0,0,0]).reshape((3,3))\n",
    "f = np.array([5,0,0,0,0,4,0,1,3]).reshape((3,3))\n",
    "g = np.array([0,0,0,0,0,9,0,0,0]).reshape((3,3))\n",
    "h = np.array([0,2,0,8,0,0,3,0,6]).reshape((3,3))\n",
    "i = np.array([0,0,0,0,3,6,0,9,0]).reshape((3,3))"
   ]
  },
  {
   "cell_type": "markdown",
   "metadata": {},
   "source": [
    "#### Hard puzzle"
   ]
  },
  {
   "cell_type": "markdown",
   "metadata": {
    "collapsed": true
   },
   "source": [
    "a = np.array([0,2,0,0,0,0,0,7,4]).reshape((3,3))\n",
    "b = np.array([0,0,0,6,0,0,0,8,0]).reshape((3,3))\n",
    "c = np.array([0,0,0,0,0,3,0,0,0]).reshape((3,3))\n",
    "d = np.array([0,0,0,0,8,0,6,0,0]).reshape((3,3))\n",
    "e = np.array([0,0,3,0,4,0,5,0,0]).reshape((3,3))\n",
    "f = np.array([0,0,2,0,1,0,0,0,0]).reshape((3,3))\n",
    "g = np.array([0,0,0,5,0,0,0,0,0]).reshape((3,3))\n",
    "h = np.array([0,1,0,0,0,9,0,0,0]).reshape((3,3))\n",
    "i = np.array([7,8,0,0,0,0,0,4,0]).reshape((3,3))"
   ]
  },
  {
   "cell_type": "markdown",
   "metadata": {},
   "source": [
    "#### Function to Concatenate the sub-grids into 1 large 9x9 grid\n",
    "np.concatenate((array1, array2), axis=1) <br> \n",
    "- Concatenates to the side (column wise) with axis=1\n",
    "- Concatenates down (row wise) with axis=0"
   ]
  },
  {
   "cell_type": "code",
   "execution_count": 4,
   "metadata": {
    "collapsed": false,
    "scrolled": false
   },
   "outputs": [],
   "source": [
    "def set_grid(a,b,c,d,e,f,g,h,i):\n",
    "    row1 = np.concatenate((a, b, c), axis=1) #axis=1 column wise\n",
    "    row2 = np.concatenate((d, e, f), axis=1)\n",
    "    row3 = np.concatenate((g, h, i), axis=1)\n",
    "    grid = np.concatenate((row1, row2, row3), axis=0) #axis=0 row wise\n",
    "    return grid"
   ]
  },
  {
   "cell_type": "markdown",
   "metadata": {},
   "source": [
    "Same as above in 1 line"
   ]
  },
  {
   "cell_type": "code",
   "execution_count": 5,
   "metadata": {
    "collapsed": false
   },
   "outputs": [],
   "source": [
    "def set_grid2(a,b,c,d,e,f,g,h,i):\n",
    "    grid = np.concatenate( (np.concatenate((a, b, c), axis=1), np.concatenate((d, e, f), axis=1), np.concatenate((g, h, i), axis=1)), axis=0 )\n",
    "    return grid"
   ]
  },
  {
   "cell_type": "code",
   "execution_count": 6,
   "metadata": {
    "collapsed": false
   },
   "outputs": [
    {
     "data": {
      "text/plain": [
       "array([[1, 0, 0, 4, 8, 9, 0, 0, 6],\n",
       "       [7, 3, 0, 0, 0, 0, 0, 4, 0],\n",
       "       [0, 0, 0, 0, 0, 1, 2, 9, 5],\n",
       "       [0, 0, 7, 1, 2, 0, 6, 0, 0],\n",
       "       [5, 0, 0, 7, 0, 3, 0, 0, 8],\n",
       "       [0, 0, 6, 0, 9, 5, 7, 0, 0],\n",
       "       [9, 1, 4, 6, 0, 0, 0, 0, 0],\n",
       "       [0, 2, 0, 0, 0, 0, 0, 3, 7],\n",
       "       [8, 0, 0, 5, 1, 2, 0, 0, 4]])"
      ]
     },
     "execution_count": 6,
     "metadata": {},
     "output_type": "execute_result"
    }
   ],
   "source": [
    "grid = set_grid(a,b,c,d,e,f,g,h,i)\n",
    "grid"
   ]
  },
  {
   "cell_type": "markdown",
   "metadata": {},
   "source": [
    "## Set sub-grids to be view of the main grid"
   ]
  },
  {
   "cell_type": "code",
   "execution_count": 7,
   "metadata": {
    "collapsed": false
   },
   "outputs": [],
   "source": [
    "a = grid[0:3, 0:3]\n",
    "b = grid[0:3, 3:6]\n",
    "c = grid[0:3, 6:9]\n",
    "d = grid[3:6, 0:3]\n",
    "e = grid[3:6, 3:6]\n",
    "f = grid[3:6, 6:9]\n",
    "g = grid[6:9, 0:3]\n",
    "h = grid[6:9, 3:6]\n",
    "i = grid[6:9, 6:9]"
   ]
  },
  {
   "cell_type": "code",
   "execution_count": 8,
   "metadata": {
    "collapsed": false
   },
   "outputs": [],
   "source": [
    "subGrids = [a,b,c,d,e,f,g,h,i]\n",
    "#subGrids"
   ]
  },
  {
   "cell_type": "markdown",
   "metadata": {},
   "source": [
    "## Function to find all possible numbers for each sub-grid\n",
    "- Using numpy.setdiff1d(array1, array2) - Return the sorted, unique values in array1 that are not in array2 (Order matters)\n",
    "- Convert array of possible choices into a single number"
   ]
  },
  {
   "cell_type": "code",
   "execution_count": 9,
   "metadata": {
    "collapsed": false
   },
   "outputs": [],
   "source": [
    "def possibleEntry(arr2, arr1=np.arange(1,10)):\n",
    "    if(len(arr1) == 0): #if comparing array is empty, just return the other array\n",
    "        return arr2\n",
    "    else:\n",
    "        choice = np.setdiff1d(arr1, arr2)\n",
    "        if(len(choice) > 0): #if not empty join into a single number\n",
    "            choice = int(''.join(str(i) for i in choice))\n",
    "            return choice\n",
    "        else: #if empty, return empty array\n",
    "            return choice"
   ]
  },
  {
   "cell_type": "markdown",
   "metadata": {},
   "source": [
    "## Assign the possible choice to all empty spots in the appropriate sub-grid"
   ]
  },
  {
   "cell_type": "markdown",
   "metadata": {},
   "source": [
    "#### Use mask to assign zeros to the possible choice variable"
   ]
  },
  {
   "cell_type": "code",
   "execution_count": 10,
   "metadata": {
    "collapsed": false
   },
   "outputs": [],
   "source": [
    "#a[a == 0] = possibleEntry(a)\n",
    "#a"
   ]
  },
  {
   "cell_type": "code",
   "execution_count": 11,
   "metadata": {
    "collapsed": false
   },
   "outputs": [],
   "source": [
    "#grid = set_grid(a,b,c,d,e,f,g,h,i)\n",
    "#grid"
   ]
  },
  {
   "cell_type": "markdown",
   "metadata": {},
   "source": [
    "## Eliminate the numbers in the row and column from the pool of possible numbers"
   ]
  },
  {
   "cell_type": "code",
   "execution_count": 12,
   "metadata": {
    "collapsed": false
   },
   "outputs": [],
   "source": [
    "def crosshatch(grid):\n",
    "    #set array to add possible numbers to, based on row and column\n",
    "    pool = np.empty(0, dtype=np.int64)\n",
    "    \n",
    "    grid_length = grid.shape[0]\n",
    "    for x in range(grid_length): #row\n",
    "        for y in range(grid_length): #column\n",
    "            #if element is longer than 1 digit check its row and column\n",
    "            if (len(str(grid[x,y])) > 1 ): \n",
    "\n",
    "                pool = np.append(pool, grid[x, :]) #append all the numbers in that element's row\n",
    "                pool = np.append(pool, grid[:, y]) #append all the numbers in that element's column\n",
    "                pool = pool[ pool < 10] #eliminate any number laster than 9\n",
    "\n",
    "                current = [int(i) for i in str(grid[x,y])] #convert current element into an array of numbers\n",
    "                np.asarray(current, dtype=np.int64)\n",
    "            \n",
    "                #assign the element to a new possibleEntry\n",
    "                grid[x,y] = possibleEntry(pool, current)\n",
    "            \n",
    "                #reset the pool for the next element\n",
    "                pool = np.empty(0, dtype=np.int64)\n",
    "    \n",
    "    return grid\n",
    "            \n",
    "        "
   ]
  },
  {
   "cell_type": "code",
   "execution_count": 13,
   "metadata": {
    "collapsed": false,
    "scrolled": true
   },
   "outputs": [
    {
     "data": {
      "text/plain": [
       "array([[1, 0, 0, 4, 8, 9, 0, 0, 6],\n",
       "       [7, 3, 0, 0, 0, 0, 0, 4, 0],\n",
       "       [0, 0, 0, 0, 0, 1, 2, 9, 5],\n",
       "       [0, 0, 7, 1, 2, 0, 6, 0, 0],\n",
       "       [5, 0, 0, 7, 0, 3, 0, 0, 8],\n",
       "       [0, 0, 6, 0, 9, 5, 7, 0, 0],\n",
       "       [9, 1, 4, 6, 0, 0, 0, 0, 0],\n",
       "       [0, 2, 0, 0, 0, 0, 0, 3, 7],\n",
       "       [8, 0, 0, 5, 1, 2, 0, 0, 4]])"
      ]
     },
     "execution_count": 13,
     "metadata": {},
     "output_type": "execute_result"
    }
   ],
   "source": [
    "crosshatch(grid)"
   ]
  },
  {
   "cell_type": "markdown",
   "metadata": {},
   "source": [
    "## Function to check if puzzle is complete"
   ]
  },
  {
   "cell_type": "markdown",
   "metadata": {},
   "source": [
    "#### Returns False if grid contains zeros or numbers larger than 9"
   ]
  },
  {
   "cell_type": "code",
   "execution_count": 14,
   "metadata": {
    "collapsed": false
   },
   "outputs": [],
   "source": [
    "def checkGrid(grid):\n",
    "    grid_length = grid.shape[0]\n",
    "    for x in range(grid_length): #row\n",
    "        for y in range(grid_length): #column\n",
    "            if (grid[x,y] > 9 or int(grid[x,y]) == 0):\n",
    "                return False\n",
    "    return True\n",
    "    "
   ]
  },
  {
   "cell_type": "code",
   "execution_count": 15,
   "metadata": {
    "collapsed": true
   },
   "outputs": [],
   "source": [
    "while checkGrid(grid) == False:\n",
    "    for i in subGrids:\n",
    "        i[i == 0] = possibleEntry(i)\n",
    "        crosshatch(grid)"
   ]
  },
  {
   "cell_type": "code",
   "execution_count": 16,
   "metadata": {
    "collapsed": false
   },
   "outputs": [
    {
     "data": {
      "text/plain": [
       "array([[1, 5, 2, 4, 8, 9, 3, 7, 6],\n",
       "       [7, 3, 9, 2, 5, 6, 8, 4, 1],\n",
       "       [4, 6, 8, 3, 7, 1, 2, 9, 5],\n",
       "       [3, 8, 7, 1, 2, 4, 6, 5, 9],\n",
       "       [5, 9, 1, 7, 6, 3, 4, 2, 8],\n",
       "       [2, 4, 6, 8, 9, 5, 7, 1, 3],\n",
       "       [9, 1, 4, 6, 3, 7, 5, 8, 2],\n",
       "       [6, 2, 5, 9, 4, 8, 1, 3, 7],\n",
       "       [8, 7, 3, 5, 1, 2, 9, 6, 4]])"
      ]
     },
     "execution_count": 16,
     "metadata": {},
     "output_type": "execute_result"
    }
   ],
   "source": [
    "grid"
   ]
  }
 ],
 "metadata": {
  "anaconda-cloud": {},
  "kernelspec": {
   "display_name": "Python [Root]",
   "language": "python",
   "name": "Python [Root]"
  },
  "language_info": {
   "codemirror_mode": {
    "name": "ipython",
    "version": 3
   },
   "file_extension": ".py",
   "mimetype": "text/x-python",
   "name": "python",
   "nbconvert_exporter": "python",
   "pygments_lexer": "ipython3",
   "version": "3.5.2"
  }
 },
 "nbformat": 4,
 "nbformat_minor": 0
}
