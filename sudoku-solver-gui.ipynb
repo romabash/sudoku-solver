{
 "cells": [
  {
   "cell_type": "markdown",
   "metadata": {},
   "source": [
    "# Sudoku Solver - Using the Crosshatching Method"
   ]
  },
  {
   "cell_type": "code",
   "execution_count": 322,
   "metadata": {
    "collapsed": true
   },
   "outputs": [],
   "source": [
    "import numpy as np"
   ]
  },
  {
   "cell_type": "code",
   "execution_count": 323,
   "metadata": {
    "collapsed": true
   },
   "outputs": [],
   "source": [
    "from tkinter import *\n",
    "from tkinter import ttk"
   ]
  },
  {
   "cell_type": "markdown",
   "metadata": {},
   "source": [
    "### Tk: Create puzzle GUI"
   ]
  },
  {
   "cell_type": "code",
   "execution_count": 324,
   "metadata": {
    "collapsed": true
   },
   "outputs": [],
   "source": [
    "root = Tk()\n",
    "root.title(\"Sudoku Solver\")\n",
    "\n",
    "mainframe = ttk.Frame(root, padding=\"15\")\n",
    "mainframe.grid(column=0, row=0, stick=(N, W, E, S))\n",
    "\n",
    "mainframe.columnconfigure(0, weight=1)\n",
    "mainframe.rowconfigure(0, weight=1)"
   ]
  },
  {
   "cell_type": "code",
   "execution_count": 325,
   "metadata": {
    "collapsed": true
   },
   "outputs": [],
   "source": [
    "ttk.Label(mainframe, text=\"Sudoku Solver\", anchor=\"center\").grid(column=1, columnspan=10, row=0, sticky=(W,E))"
   ]
  },
  {
   "cell_type": "markdown",
   "metadata": {},
   "source": [
    "### Tk: Create a grid of Entry widgets and declare each Entry as a Tk variable - StringVar()"
   ]
  },
  {
   "cell_type": "code",
   "execution_count": 326,
   "metadata": {
    "collapsed": false
   },
   "outputs": [],
   "source": [
    "position ={}\n",
    "pos = 1\n",
    "for x in range(0,9):\n",
    "    for y in range(0,9):\n",
    "        position[pos] = StringVar()\n",
    "        ttk.Entry(mainframe, width=2, textvariable=position[pos]).grid(row=x+1, column=y+1, sticky=(W,E))\n",
    "        pos += 1"
   ]
  },
  {
   "cell_type": "markdown",
   "metadata": {},
   "source": [
    "### Numpy: Create board and set sub-grids to be view of the main board"
   ]
  },
  {
   "cell_type": "code",
   "execution_count": 327,
   "metadata": {
    "collapsed": false
   },
   "outputs": [
    {
     "data": {
      "text/plain": [
       "array([[0, 0, 0, 0, 0, 0, 0, 0, 0],\n",
       "       [0, 0, 0, 0, 0, 0, 0, 0, 0],\n",
       "       [0, 0, 0, 0, 0, 0, 0, 0, 0],\n",
       "       [0, 0, 0, 0, 0, 0, 0, 0, 0],\n",
       "       [0, 0, 0, 0, 0, 0, 0, 0, 0],\n",
       "       [0, 0, 0, 0, 0, 0, 0, 0, 0],\n",
       "       [0, 0, 0, 0, 0, 0, 0, 0, 0],\n",
       "       [0, 0, 0, 0, 0, 0, 0, 0, 0],\n",
       "       [0, 0, 0, 0, 0, 0, 0, 0, 0]], dtype=int64)"
      ]
     },
     "execution_count": 327,
     "metadata": {},
     "output_type": "execute_result"
    }
   ],
   "source": [
    "board = np.zeros((9,9), dtype=np.int64)\n",
    "board"
   ]
  },
  {
   "cell_type": "code",
   "execution_count": 328,
   "metadata": {
    "collapsed": false
   },
   "outputs": [],
   "source": [
    "a = board[0:3, 0:3]\n",
    "b = board[0:3, 3:6]\n",
    "c = board[0:3, 6:9]\n",
    "d = board[3:6, 0:3]\n",
    "e = board[3:6, 3:6]\n",
    "f = board[3:6, 6:9]\n",
    "g = board[6:9, 0:3]\n",
    "h = board[6:9, 3:6]\n",
    "i = board[6:9, 6:9]"
   ]
  },
  {
   "cell_type": "code",
   "execution_count": 329,
   "metadata": {
    "collapsed": false
   },
   "outputs": [],
   "source": [
    "subGrids = [a,b,c,d,e,f,g,h,i]"
   ]
  },
  {
   "cell_type": "markdown",
   "metadata": {},
   "source": [
    "### Tk: Assign the Entry value to the board elements\n",
    "- If Entry is empty (len(position[i].get()) == 0) the assign that element to zero 0\n",
    "- If filled assign board element to that value"
   ]
  },
  {
   "cell_type": "code",
   "execution_count": 330,
   "metadata": {
    "collapsed": false
   },
   "outputs": [],
   "source": [
    "def set_puzzle(*args):    \n",
    "    idx = 1\n",
    "    for x in range(0,9):\n",
    "        for y in range(0,9):\n",
    "            if len(position[idx].get()) == 0:\n",
    "                board[x,y] = 0\n",
    "            else:\n",
    "                value = int(position[idx].get())\n",
    "                board[x,y] = value\n",
    "            idx += 1"
   ]
  },
  {
   "cell_type": "markdown",
   "metadata": {},
   "source": [
    "### Numpy: Function to find all possible numbers for each sub-grid\n",
    "- Using numpy.setdiff1d(array1, array2) - Return the sorted, unique values in array1 that are not in array2 (Order matters)\n",
    "- Convert array of possible choices into a single number"
   ]
  },
  {
   "cell_type": "code",
   "execution_count": 331,
   "metadata": {
    "collapsed": false
   },
   "outputs": [],
   "source": [
    "def possibleEntry(arr2, arr1=np.arange(1,10)):\n",
    "    if(len(arr1) == 0): #if comparing array is empty, just return the other array\n",
    "        return arr2\n",
    "    else:\n",
    "        choice = np.setdiff1d(arr1, arr2)\n",
    "        if(len(choice) > 0): #if not empty join into a single number\n",
    "            choice = int(''.join(str(i) for i in choice))\n",
    "            return choice\n",
    "        else: #if empty, return empty array\n",
    "            return choice"
   ]
  },
  {
   "cell_type": "markdown",
   "metadata": {},
   "source": [
    "### Numpy: Eliminate the numbers in the row and column and assign possible numbers to \"empty\" elements"
   ]
  },
  {
   "cell_type": "code",
   "execution_count": 332,
   "metadata": {
    "collapsed": false
   },
   "outputs": [],
   "source": [
    "def crosshatch(board):\n",
    "    #set array to add possible numbers to, based on row and column\n",
    "    pool = np.empty(0, dtype=np.int64)\n",
    "    \n",
    "    board_length = board.shape[0]\n",
    "    for x in range(board_length): #row\n",
    "        for y in range(board_length): #column\n",
    "            #if element is longer than 1 digit check its row and column\n",
    "            if (len(str(board[x,y])) > 1 ): \n",
    "\n",
    "                pool = np.append(pool, board[x, :]) #append all the numbers in that element's row\n",
    "                pool = np.append(pool, board[:, y]) #append all the numbers in that element's column\n",
    "                pool = pool[ pool < 10] #eliminate any number laster than 9\n",
    "\n",
    "                current = [int(i) for i in str(board[x,y])] #convert current element into an array of numbers\n",
    "                np.asarray(current, dtype=np.int64)\n",
    "            \n",
    "                #assign the element to a new possibleEntry\n",
    "                board[x,y] = possibleEntry(pool, current)\n",
    "            \n",
    "                #reset the pool for the next element\n",
    "                pool = np.empty(0, dtype=np.int64)\n",
    "    \n",
    "    return board\n",
    "            \n",
    "        "
   ]
  },
  {
   "cell_type": "markdown",
   "metadata": {},
   "source": [
    "### Numpy: Function to check if puzzle is complete\n",
    "- Returns False if grid contains zeros or numbers larger than 9"
   ]
  },
  {
   "cell_type": "code",
   "execution_count": 333,
   "metadata": {
    "collapsed": false
   },
   "outputs": [],
   "source": [
    "def checkGrid(board):\n",
    "    board_length = board.shape[0]\n",
    "    for x in range(board_length): #row\n",
    "        for y in range(board_length): #column\n",
    "            if (board[x,y] > 9 or int(board[x,y]) == 0):\n",
    "                return False\n",
    "    return True\n",
    "    "
   ]
  },
  {
   "cell_type": "markdown",
   "metadata": {},
   "source": [
    "### Tk: Solve function - once solved assign numbers of the board elements to each Entry widget to dsiplay on GUI"
   ]
  },
  {
   "cell_type": "code",
   "execution_count": 334,
   "metadata": {
    "collapsed": false
   },
   "outputs": [],
   "source": [
    "def solve(*args): \n",
    "    set_puzzle()\n",
    "    while checkGrid(board) == False:\n",
    "        for i in subGrids:\n",
    "            i[i == 0] = possibleEntry(i)\n",
    "            crosshatch(board)\n",
    "        \n",
    "    idx = 1\n",
    "    for x in range(0,9):\n",
    "        for y in range(0,9):\n",
    "            position[idx].set(board[x,y])\n",
    "            idx += 1"
   ]
  },
  {
   "cell_type": "code",
   "execution_count": 335,
   "metadata": {
    "collapsed": false,
    "scrolled": false
   },
   "outputs": [
    {
     "data": {
      "text/plain": [
       "array([[0, 0, 0, 0, 0, 0, 0, 0, 0],\n",
       "       [0, 0, 0, 0, 0, 0, 0, 0, 0],\n",
       "       [0, 0, 0, 0, 0, 0, 0, 0, 0],\n",
       "       [0, 0, 0, 0, 0, 0, 0, 0, 0],\n",
       "       [0, 0, 0, 0, 0, 0, 0, 0, 0],\n",
       "       [0, 0, 0, 0, 0, 0, 0, 0, 0],\n",
       "       [0, 0, 0, 0, 0, 0, 0, 0, 0],\n",
       "       [0, 0, 0, 0, 0, 0, 0, 0, 0],\n",
       "       [0, 0, 0, 0, 0, 0, 0, 0, 0]], dtype=int64)"
      ]
     },
     "execution_count": 335,
     "metadata": {},
     "output_type": "execute_result"
    }
   ],
   "source": [
    "board"
   ]
  },
  {
   "cell_type": "markdown",
   "metadata": {},
   "source": [
    "### Tk: Add bottuns on the bottom and assign the functions"
   ]
  },
  {
   "cell_type": "code",
   "execution_count": 336,
   "metadata": {
    "collapsed": true
   },
   "outputs": [],
   "source": [
    "ttk.Button(mainframe, text=\"Solve\", command=solve).grid(column=1, columnspan=5, row=12, sticky=(W, E))\n",
    "ttk.Button(mainframe, text=\"Clear\").grid(column=6, columnspan=5, row=12, sticky=(W, E))"
   ]
  },
  {
   "cell_type": "markdown",
   "metadata": {},
   "source": [
    "### Tk: End GUI with Tk mainloop"
   ]
  },
  {
   "cell_type": "code",
   "execution_count": 337,
   "metadata": {
    "collapsed": false,
    "scrolled": true
   },
   "outputs": [],
   "source": [
    "root.mainloop()"
   ]
  }
 ],
 "metadata": {
  "anaconda-cloud": {},
  "kernelspec": {
   "display_name": "Python [Root]",
   "language": "python",
   "name": "Python [Root]"
  },
  "language_info": {
   "codemirror_mode": {
    "name": "ipython",
    "version": 3
   },
   "file_extension": ".py",
   "mimetype": "text/x-python",
   "name": "python",
   "nbconvert_exporter": "python",
   "pygments_lexer": "ipython3",
   "version": "3.5.2"
  }
 },
 "nbformat": 4,
 "nbformat_minor": 0
}
