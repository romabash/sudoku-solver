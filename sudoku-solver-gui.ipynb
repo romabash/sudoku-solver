{
 "cells": [
  {
   "cell_type": "markdown",
   "metadata": {},
   "source": [
    "# Sudoku Solver - Using the Crosshatching Method"
   ]
  },
  {
   "cell_type": "code",
   "execution_count": 39,
   "metadata": {
    "collapsed": true
   },
   "outputs": [],
   "source": [
    "import numpy as np"
   ]
  },
  {
   "cell_type": "code",
   "execution_count": 40,
   "metadata": {
    "collapsed": true
   },
   "outputs": [],
   "source": [
    "from tkinter import *\n",
    "import tkinter as tk\n",
    "from tkinter import ttk\n",
    "from tkinter import font"
   ]
  },
  {
   "cell_type": "markdown",
   "metadata": {},
   "source": [
    "### Tk: Create puzzle GUI"
   ]
  },
  {
   "cell_type": "code",
   "execution_count": 41,
   "metadata": {
    "collapsed": true
   },
   "outputs": [],
   "source": [
    "root = Tk()\n",
    "root.title(\"Sudoku Solver\")\n",
    "\n",
    "mainframe = ttk.Frame(root, padding=\"15\")\n",
    "mainframe.grid(column=0, row=0, stick=(N, W, E, S))\n",
    "\n",
    "mainframe.columnconfigure(0, weight=1)\n",
    "mainframe.rowconfigure(0, weight=1)"
   ]
  },
  {
   "cell_type": "markdown",
   "metadata": {},
   "source": [
    "### Tk: Set font style to use throughout "
   ]
  },
  {
   "cell_type": "code",
   "execution_count": 42,
   "metadata": {
    "collapsed": true
   },
   "outputs": [],
   "source": [
    "mainFont = font.Font(family='Helvetica', size=18) #weight='bold'"
   ]
  },
  {
   "cell_type": "code",
   "execution_count": 43,
   "metadata": {
    "collapsed": true
   },
   "outputs": [],
   "source": [
    "ttk.Label(mainframe, text=\"Sudoku Solver\", anchor=\"center\", font=mainFont).grid(column=1, columnspan=10, row=0, sticky=(W,E))"
   ]
  },
  {
   "cell_type": "markdown",
   "metadata": {},
   "source": [
    "### Tk: Set style for the Entry widgets: background color"
   ]
  },
  {
   "cell_type": "code",
   "execution_count": null,
   "metadata": {
    "collapsed": true
   },
   "outputs": [],
   "source": [
    "estyle = ttk.Style()\n",
    "estyle.element_create(\"plain.field\", \"from\", \"clam\")\n",
    "\n",
    "estyle.layout(\"EntryStyle.Teal\",\n",
    "                   [('Entry.plain.field', {'children': [(\n",
    "                       'Entry.background', {'children': [(\n",
    "                           'Entry.padding', {'children': [(\n",
    "                               'Entry.textarea', {'sticky': 'nswe'})],\n",
    "                      'sticky': 'nswe'})], 'sticky': 'nswe'})],\n",
    "                      'border':'2', 'sticky': 'nswe'})])\n",
    "estyle.configure(\"EntryStyle.Teal\",\n",
    "                 background=\"black\", \n",
    "                 foreground=\"black\",\n",
    "                 fieldbackground=\"#cdf2eb\")\n",
    "\n",
    "estyle.layout(\"EntryStyle.Rose\",\n",
    "                   [('Entry.plain.field', {'children': [(\n",
    "                       'Entry.background', {'children': [(\n",
    "                           'Entry.padding', {'children': [(\n",
    "                               'Entry.textarea', {'sticky': 'nswe'})],\n",
    "                      'sticky': 'nswe'})], 'sticky': 'nswe'})],\n",
    "                      'border':'2', 'sticky': 'nswe'})])\n",
    "estyle.configure(\"EntryStyle.Rose\",\n",
    "                 background=\"black\", \n",
    "                 foreground=\"black\",\n",
    "                 fieldbackground=\"#f9f4f4\")"
   ]
  },
  {
   "cell_type": "markdown",
   "metadata": {},
   "source": [
    "### Tk: Create a grid of Entry widgets and declare each Entry as a Tk variable - StringVar()\n",
    "- Set background color for the Entry widgets as they are declared\n",
    "- Most of the logic is to set the background style based on the location of the Entry on the board"
   ]
  },
  {
   "cell_type": "code",
   "execution_count": null,
   "metadata": {
    "collapsed": true
   },
   "outputs": [],
   "source": [
    "position ={}\n",
    "\n",
    "pos = 1\n",
    "for x in range(0,9):\n",
    "    n1 = 1\n",
    "    n2 = 1\n",
    "    if (x < 3 or x >= 6):\n",
    "        for y in range(0,9):\n",
    "            if (n2 - n1) < 3:\n",
    "                position[pos] = StringVar()\n",
    "                ttk.Entry(mainframe, width=2, style=\"EntryStyle.Rose\", font=mainFont, textvariable=position[pos]).grid(row=x+1, column=y+1, sticky=(W,E))\n",
    "            elif (n2 - n1) >= 3 or (n2 -n1) < 6:\n",
    "                position[pos] = StringVar()\n",
    "                ttk.Entry(mainframe, width=2, style=\"EntryStyle.Teal\", font=mainFont, textvariable=position[pos]).grid(row=x+1, column=y+1, sticky=(W,E))\n",
    "            if (n2 - n1) == 5:\n",
    "                n1 = n2 + 1\n",
    "            n2 += 1\n",
    "            pos += 1\n",
    "    if (x >= 3 and x < 6):\n",
    "        for y in range(0,9):\n",
    "            if (n2 - n1) < 3:\n",
    "                position[pos] = StringVar()\n",
    "                ttk.Entry(mainframe, width=2, style=\"EntryStyle.Teal\", font=mainFont, textvariable=position[pos]).grid(row=x+1, column=y+1, sticky=(W,E))\n",
    "            elif (n2 - n1) >= 3 or (n2 -n1) < 6:\n",
    "                position[pos] = StringVar()\n",
    "                ttk.Entry(mainframe, width=2, style=\"EntryStyle.Rose\", font=mainFont, textvariable=position[pos]).grid(row=x+1, column=y+1, sticky=(W,E))\n",
    "            if (n2 - n1) == 5:\n",
    "                n1 = n2 + 1\n",
    "            n2 += 1\n",
    "            pos += 1"
   ]
  },
  {
   "cell_type": "markdown",
   "metadata": {},
   "source": [
    "### Numpy: Create board and set sub-grids to be view of the main board"
   ]
  },
  {
   "cell_type": "code",
   "execution_count": null,
   "metadata": {},
   "outputs": [],
   "source": [
    "board = np.zeros((9,9), dtype=np.int64)\n",
    "board"
   ]
  },
  {
   "cell_type": "code",
   "execution_count": null,
   "metadata": {
    "collapsed": true
   },
   "outputs": [],
   "source": [
    "a = board[0:3, 0:3]\n",
    "b = board[0:3, 3:6]\n",
    "c = board[0:3, 6:9]\n",
    "d = board[3:6, 0:3]\n",
    "e = board[3:6, 3:6]\n",
    "f = board[3:6, 6:9]\n",
    "g = board[6:9, 0:3]\n",
    "h = board[6:9, 3:6]\n",
    "i = board[6:9, 6:9]"
   ]
  },
  {
   "cell_type": "code",
   "execution_count": null,
   "metadata": {
    "collapsed": true
   },
   "outputs": [],
   "source": [
    "subGrids = [a,b,c,d,e,f,g,h,i]"
   ]
  },
  {
   "cell_type": "markdown",
   "metadata": {},
   "source": [
    "### Tk: Assign the Entry value to the board elements\n",
    "- If Entry is empty (len(position[i].get()) == 0) the assign that element to zero 0\n",
    "- If filled assign board element to that value"
   ]
  },
  {
   "cell_type": "code",
   "execution_count": null,
   "metadata": {
    "collapsed": true
   },
   "outputs": [],
   "source": [
    "def set_puzzle(*args):    \n",
    "    idx = 1\n",
    "    for x in range(0,9):\n",
    "        for y in range(0,9):\n",
    "            if len(position[idx].get()) == 0:\n",
    "                board[x,y] = 0\n",
    "            else:\n",
    "                value = int(position[idx].get())\n",
    "                board[x,y] = value\n",
    "            idx += 1"
   ]
  },
  {
   "cell_type": "markdown",
   "metadata": {},
   "source": [
    "### Tk: Clear the puzzle board:\n",
    "- Assign each element of the board to 0\n",
    "- Assign each Tk Entry variable to empty string \"\""
   ]
  },
  {
   "cell_type": "code",
   "execution_count": null,
   "metadata": {
    "collapsed": true
   },
   "outputs": [],
   "source": [
    "def clear_puzzle(*args):\n",
    "    idx = 1\n",
    "    for x in range(0,9):\n",
    "        for y in range(0,9):\n",
    "            position[idx].set(\"\")\n",
    "            board[x,y] = 0\n",
    "            idx += 1"
   ]
  },
  {
   "cell_type": "markdown",
   "metadata": {},
   "source": [
    "### Numpy: Function to find all possible numbers for each sub-grid\n",
    "- Using numpy.setdiff1d(array1, array2) - Return the sorted, unique values in array1 that are not in array2 (Order matters)\n",
    "- Convert array of possible choices into a single number"
   ]
  },
  {
   "cell_type": "code",
   "execution_count": null,
   "metadata": {
    "collapsed": true
   },
   "outputs": [],
   "source": [
    "def possibleEntry(arr2, arr1=np.arange(1,10)):\n",
    "    if(len(arr1) == 0): #if comparing array is empty, just return the other array\n",
    "        return arr2\n",
    "    else:\n",
    "        choice = np.setdiff1d(arr1, arr2)\n",
    "        if(len(choice) > 0): #if not empty join into a single number\n",
    "            choice = int(''.join(str(i) for i in choice))\n",
    "            return choice\n",
    "        else: #if empty, return empty array\n",
    "            return choice"
   ]
  },
  {
   "cell_type": "markdown",
   "metadata": {},
   "source": [
    "### Numpy: Eliminate the numbers in the row and column and assign possible numbers to \"empty\" elements"
   ]
  },
  {
   "cell_type": "code",
   "execution_count": null,
   "metadata": {
    "collapsed": true
   },
   "outputs": [],
   "source": [
    "def crosshatch(board):\n",
    "    #set array to add possible numbers to, based on row and column\n",
    "    pool = np.empty(0, dtype=np.int64)\n",
    "    \n",
    "    board_length = board.shape[0]\n",
    "    for x in range(board_length): #row\n",
    "        for y in range(board_length): #column\n",
    "            #if element is longer than 1 digit check its row and column\n",
    "            if (len(str(board[x,y])) > 1 ): \n",
    "\n",
    "                pool = np.append(pool, board[x, :]) #append all the numbers in that element's row\n",
    "                pool = np.append(pool, board[:, y]) #append all the numbers in that element's column\n",
    "                pool = pool[ pool < 10] #eliminate any number laster than 9\n",
    "\n",
    "                current = [int(i) for i in str(board[x,y])] #convert current element into an array of numbers\n",
    "                np.asarray(current, dtype=np.int64)\n",
    "            \n",
    "                #assign the element to a new possibleEntry\n",
    "                board[x,y] = possibleEntry(pool, current)\n",
    "            \n",
    "                #reset the pool for the next element\n",
    "                pool = np.empty(0, dtype=np.int64)\n",
    "    \n",
    "    return board\n",
    "            \n",
    "        "
   ]
  },
  {
   "cell_type": "markdown",
   "metadata": {},
   "source": [
    "### Numpy: Function to check if puzzle is complete\n",
    "- Returns False if grid contains zeros or numbers larger than 9"
   ]
  },
  {
   "cell_type": "code",
   "execution_count": null,
   "metadata": {
    "collapsed": true
   },
   "outputs": [],
   "source": [
    "def checkGrid(board):\n",
    "    board_length = board.shape[0]\n",
    "    for x in range(board_length): #row\n",
    "        for y in range(board_length): #column\n",
    "            if (board[x,y] > 9 or int(board[x,y]) == 0):\n",
    "                return False\n",
    "    return True\n",
    "    "
   ]
  },
  {
   "cell_type": "markdown",
   "metadata": {},
   "source": [
    "### Tk: Solve function - once solved assign numbers of the board elements to each Entry widget to dsiplay on GUI"
   ]
  },
  {
   "cell_type": "code",
   "execution_count": null,
   "metadata": {
    "collapsed": true
   },
   "outputs": [],
   "source": [
    "def solve(*args): \n",
    "    set_puzzle()\n",
    "    while checkGrid(board) == False:\n",
    "        for i in subGrids:\n",
    "            i[i == 0] = possibleEntry(i)\n",
    "            crosshatch(board)\n",
    "        \n",
    "    idx = 1\n",
    "    for x in range(0,9):\n",
    "        for y in range(0,9):\n",
    "            position[idx].set(board[x,y])\n",
    "            idx += 1"
   ]
  },
  {
   "cell_type": "code",
   "execution_count": null,
   "metadata": {
    "scrolled": false
   },
   "outputs": [],
   "source": [
    "board"
   ]
  },
  {
   "cell_type": "markdown",
   "metadata": {},
   "source": [
    "### Tk: Add bottuns on the bottom and assign the functions\n",
    "- Using tk Button instead of ttk to use background color (bg)"
   ]
  },
  {
   "cell_type": "code",
   "execution_count": null,
   "metadata": {},
   "outputs": [],
   "source": [
    "tk.Button(mainframe,  bg='#78e2af', fg='#1b3305', relief='flat', text=\"Solve\", command=solve).grid(column=1, columnspan=5, row=12, sticky=(W, E))\n",
    "tk.Button(mainframe,  bg='#efbac9', fg='#30020f', relief='flat', text=\"Clear\", command=clear_puzzle).grid(column=6, columnspan=5, row=12, sticky=(W, E))"
   ]
  },
  {
   "cell_type": "markdown",
   "metadata": {},
   "source": [
    "### Tk: End GUI with Tk mainloop"
   ]
  },
  {
   "cell_type": "code",
   "execution_count": null,
   "metadata": {
    "collapsed": true,
    "scrolled": true
   },
   "outputs": [],
   "source": [
    "root.mainloop()"
   ]
  }
 ],
 "metadata": {
  "anaconda-cloud": {},
  "kernelspec": {
   "display_name": "Python 3",
   "language": "python",
   "name": "python3"
  },
  "language_info": {
   "codemirror_mode": {
    "name": "ipython",
    "version": 3
   },
   "file_extension": ".py",
   "mimetype": "text/x-python",
   "name": "python",
   "nbconvert_exporter": "python",
   "pygments_lexer": "ipython3",
   "version": "3.6.2"
  }
 },
 "nbformat": 4,
 "nbformat_minor": 1
}
