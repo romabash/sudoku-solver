{
 "cells": [
  {
   "cell_type": "markdown",
   "metadata": {},
   "source": [
    "# NumPy Sudoku Solver"
   ]
  },
  {
   "cell_type": "code",
   "execution_count": 1,
   "metadata": {
    "collapsed": true
   },
   "outputs": [],
   "source": [
    "import numpy as np"
   ]
  },
  {
   "cell_type": "markdown",
   "metadata": {},
   "source": [
    "### Create a 3x3 matrix"
   ]
  },
  {
   "cell_type": "code",
   "execution_count": 2,
   "metadata": {
    "collapsed": false
   },
   "outputs": [
    {
     "data": {
      "text/plain": [
       "array([[0, 0, 0, 0],\n",
       "       [0, 0, 0, 0],\n",
       "       [0, 0, 0, 0],\n",
       "       [0, 0, 0, 0]], dtype=int64)"
      ]
     },
     "execution_count": 2,
     "metadata": {},
     "output_type": "execute_result"
    }
   ],
   "source": [
    "grid = np.zeros((4,4), dtype=np.int64)\n",
    "grid"
   ]
  },
  {
   "cell_type": "markdown",
   "metadata": {},
   "source": [
    "### Create a Function to fill an Array of given length with unique Random Numbers by row"
   ]
  },
  {
   "cell_type": "code",
   "execution_count": 3,
   "metadata": {
    "collapsed": true
   },
   "outputs": [],
   "source": [
    "def set_random(arr):\n",
    "    \n",
    "    arr_length = arr.shape[0]\n",
    "    for x in range(arr_length):\n",
    "        arr[x,:] = np.random.choice(range(1,(arr_length + 1)), arr_length, replace=False)\n",
    "    \n",
    "    return arr \n"
   ]
  },
  {
   "cell_type": "markdown",
   "metadata": {},
   "source": [
    "### Seed with Random numbers"
   ]
  },
  {
   "cell_type": "code",
   "execution_count": 4,
   "metadata": {
    "collapsed": false
   },
   "outputs": [
    {
     "data": {
      "text/plain": [
       "array([[4, 2, 3, 1],\n",
       "       [1, 3, 4, 2],\n",
       "       [3, 4, 1, 2],\n",
       "       [1, 4, 2, 3]], dtype=int64)"
      ]
     },
     "execution_count": 4,
     "metadata": {},
     "output_type": "execute_result"
    }
   ],
   "source": [
    "set_random(grid)"
   ]
  },
  {
   "cell_type": "markdown",
   "metadata": {},
   "source": [
    "## Create a function to check if any numbers repeat in a given column"
   ]
  },
  {
   "cell_type": "markdown",
   "metadata": {},
   "source": [
    "#### Python way with loops"
   ]
  },
  {
   "cell_type": "code",
   "execution_count": 5,
   "metadata": {
    "collapsed": true
   },
   "outputs": [],
   "source": [
    "def check_arr1(cube):\n",
    "    cube_length = cube.shape[0]\n",
    "    \n",
    "    check = True\n",
    "\n",
    "    for x in range(cube_length - 1):\n",
    "        for y in range(cube_length):\n",
    "            #if first element in in the rest of the column\n",
    "            if ( cube[x,y] in cube[(x+1):, y] ):\n",
    "                check = False\n",
    "                return check\n",
    "            else: \n",
    "                check = True\n",
    "                \n",
    "    return check\n"
   ]
  },
  {
   "cell_type": "markdown",
   "metadata": {},
   "source": [
    "#### NumPy way with loops\n",
    "Check to see if number of unique elements in a column is equal to the size of the column.  Returns True if all unique.  Returns False if contains duplicates"
   ]
  },
  {
   "cell_type": "code",
   "execution_count": 6,
   "metadata": {
    "collapsed": true
   },
   "outputs": [],
   "source": [
    "def check_arr2(arr):\n",
    "    for i in range(arr.shape[1]):\n",
    "        if np.unique(arr[:, i]).size < arr.shape[0]:\n",
    "            return False\n",
    "    return True"
   ]
  },
  {
   "cell_type": "markdown",
   "metadata": {},
   "source": [
    "#### NumPy way with no loops\n",
    "Sort array by column (axis=0). Check whether there are two or more equal values next to each other (non-unique values in a sorted array) by comparing their difference to 0"
   ]
  },
  {
   "cell_type": "code",
   "execution_count": 7,
   "metadata": {
    "collapsed": true
   },
   "outputs": [],
   "source": [
    "def check_arr3(arr):\n",
    "    if ( np.any(np.diff(np.sort(arr, axis=0), axis=0) == 0) ):\n",
    "        return False\n",
    "    return True"
   ]
  },
  {
   "cell_type": "markdown",
   "metadata": {},
   "source": [
    "## Generating the Grids "
   ]
  },
  {
   "cell_type": "markdown",
   "metadata": {},
   "source": [
    "#### Using Python way with loops"
   ]
  },
  {
   "cell_type": "code",
   "execution_count": 8,
   "metadata": {
    "collapsed": false
   },
   "outputs": [
    {
     "data": {
      "text/plain": [
       "array([[4, 2, 1, 3],\n",
       "       [1, 3, 4, 2],\n",
       "       [2, 1, 3, 4],\n",
       "       [3, 4, 2, 1]], dtype=int64)"
      ]
     },
     "execution_count": 8,
     "metadata": {},
     "output_type": "execute_result"
    }
   ],
   "source": [
    "#%%timeit\n",
    "grid = np.zeros((4,4), dtype=np.int64)\n",
    "set_random(grid)\n",
    "check = check_arr1(grid)\n",
    "while check == False:\n",
    "    set_random(grid)\n",
    "    check = check_arr1(grid)\n",
    "grid"
   ]
  },
  {
   "cell_type": "markdown",
   "metadata": {},
   "source": [
    "#### Using Numpy way with loops"
   ]
  },
  {
   "cell_type": "code",
   "execution_count": 9,
   "metadata": {
    "collapsed": false
   },
   "outputs": [
    {
     "data": {
      "text/plain": [
       "array([[1, 4, 3, 2],\n",
       "       [4, 1, 2, 3],\n",
       "       [2, 3, 4, 1],\n",
       "       [3, 2, 1, 4]], dtype=int64)"
      ]
     },
     "execution_count": 9,
     "metadata": {},
     "output_type": "execute_result"
    }
   ],
   "source": [
    "#%%timeit\n",
    "grid = np.zeros((4,4), dtype=np.int64)\n",
    "set_random(grid)\n",
    "check = check_arr2(grid)\n",
    "while check == False:\n",
    "    set_random(grid)\n",
    "    check = check_arr2(grid)\n",
    "grid"
   ]
  },
  {
   "cell_type": "markdown",
   "metadata": {
    "collapsed": true
   },
   "source": [
    "#### Using Numpy way with no loops"
   ]
  },
  {
   "cell_type": "code",
   "execution_count": 10,
   "metadata": {
    "collapsed": false
   },
   "outputs": [
    {
     "data": {
      "text/plain": [
       "array([[1, 4, 2, 3],\n",
       "       [4, 1, 3, 2],\n",
       "       [2, 3, 4, 1],\n",
       "       [3, 2, 1, 4]], dtype=int64)"
      ]
     },
     "execution_count": 10,
     "metadata": {},
     "output_type": "execute_result"
    }
   ],
   "source": [
    "#%%timeit\n",
    "grid = np.zeros((4,4), dtype=np.int64)\n",
    "set_random(grid)\n",
    "check = check_arr3(grid)\n",
    "while check == False:\n",
    "    set_random(grid)\n",
    "    check = check_arr3(grid)\n",
    "grid"
   ]
  },
  {
   "cell_type": "code",
   "execution_count": null,
   "metadata": {
    "collapsed": true
   },
   "outputs": [],
   "source": []
  }
 ],
 "metadata": {
  "anaconda-cloud": {},
  "kernelspec": {
   "display_name": "Python [Root]",
   "language": "python",
   "name": "Python [Root]"
  },
  "language_info": {
   "codemirror_mode": {
    "name": "ipython",
    "version": 3
   },
   "file_extension": ".py",
   "mimetype": "text/x-python",
   "name": "python",
   "nbconvert_exporter": "python",
   "pygments_lexer": "ipython3",
   "version": "3.5.2"
  }
 },
 "nbformat": 4,
 "nbformat_minor": 0
}
